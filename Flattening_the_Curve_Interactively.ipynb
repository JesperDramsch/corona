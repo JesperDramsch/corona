{
  "nbformat": 4,
  "nbformat_minor": 0,
  "metadata": {
    "colab": {
      "name": "Flattening the Curve - Interactively",
      "provenance": [],
      "authorship_tag": "ABX9TyNtXiikTDYqmLEc8Pij67io",
      "include_colab_link": true
    },
    "kernelspec": {
      "name": "python3",
      "display_name": "Python 3"
    },
    "widgets": {
      "application/vnd.jupyter.widget-state+json": {
        "4100c50f60a547d5b083a825c17e5a18": {
          "model_module": "@jupyter-widgets/controls",
          "model_name": "VBoxModel",
          "state": {
            "_view_name": "VBoxView",
            "_dom_classes": [
              "widget-interact"
            ],
            "_model_name": "VBoxModel",
            "_view_module": "@jupyter-widgets/controls",
            "_model_module_version": "1.5.0",
            "_view_count": null,
            "_view_module_version": "1.5.0",
            "box_style": "",
            "layout": "IPY_MODEL_34b4181607074c47b2bf9118317738a0",
            "_model_module": "@jupyter-widgets/controls",
            "children": [
              "IPY_MODEL_589a0d2cb7e4401299a18afa80349156",
              "IPY_MODEL_dba9dae6ff874675be094f64dff2f8bb",
              "IPY_MODEL_cce1d30d2d954f3d8556c9affacb11a4",
              "IPY_MODEL_928fe1e3504a48cab72571961b02792c"
            ]
          }
        },
        "34b4181607074c47b2bf9118317738a0": {
          "model_module": "@jupyter-widgets/base",
          "model_name": "LayoutModel",
          "state": {
            "_view_name": "LayoutView",
            "grid_template_rows": null,
            "right": null,
            "justify_content": null,
            "_view_module": "@jupyter-widgets/base",
            "overflow": null,
            "_model_module_version": "1.2.0",
            "_view_count": null,
            "flex_flow": null,
            "width": null,
            "min_width": null,
            "border": null,
            "align_items": null,
            "bottom": null,
            "_model_module": "@jupyter-widgets/base",
            "top": null,
            "grid_column": null,
            "overflow_y": null,
            "overflow_x": null,
            "grid_auto_flow": null,
            "grid_area": null,
            "grid_template_columns": null,
            "flex": null,
            "_model_name": "LayoutModel",
            "justify_items": null,
            "grid_row": null,
            "max_height": null,
            "align_content": null,
            "visibility": null,
            "align_self": null,
            "height": null,
            "min_height": null,
            "padding": null,
            "grid_auto_rows": null,
            "grid_gap": null,
            "max_width": null,
            "order": null,
            "_view_module_version": "1.2.0",
            "grid_template_areas": null,
            "object_position": null,
            "object_fit": null,
            "grid_auto_columns": null,
            "margin": null,
            "display": null,
            "left": null
          }
        },
        "589a0d2cb7e4401299a18afa80349156": {
          "model_module": "@jupyter-widgets/controls",
          "model_name": "FloatSliderModel",
          "state": {
            "_view_name": "FloatSliderView",
            "style": "IPY_MODEL_d31bc147773b4d4ea894c8c048d2344d",
            "_dom_classes": [],
            "description": "Transmission Rate",
            "step": 0.01,
            "_model_name": "FloatSliderModel",
            "orientation": "horizontal",
            "max": 5,
            "_view_module": "@jupyter-widgets/controls",
            "_model_module_version": "1.5.0",
            "value": 3.2,
            "_view_count": null,
            "disabled": false,
            "_view_module_version": "1.5.0",
            "min": 0,
            "continuous_update": false,
            "readout_format": ".2f",
            "description_tooltip": null,
            "readout": true,
            "_model_module": "@jupyter-widgets/controls",
            "layout": "IPY_MODEL_b999611db2ea40ac89492654d5cc43c9"
          }
        },
        "dba9dae6ff874675be094f64dff2f8bb": {
          "model_module": "@jupyter-widgets/controls",
          "model_name": "FloatSliderModel",
          "state": {
            "_view_name": "FloatSliderView",
            "style": "IPY_MODEL_29ae02af96dd485594c8029940ba6716",
            "_dom_classes": [],
            "description": "Recovery Rate",
            "step": 0.01,
            "_model_name": "FloatSliderModel",
            "orientation": "horizontal",
            "max": 1,
            "_view_module": "@jupyter-widgets/controls",
            "_model_module_version": "1.5.0",
            "value": 0.23,
            "_view_count": null,
            "disabled": false,
            "_view_module_version": "1.5.0",
            "min": 0,
            "continuous_update": false,
            "readout_format": ".2f",
            "description_tooltip": null,
            "readout": true,
            "_model_module": "@jupyter-widgets/controls",
            "layout": "IPY_MODEL_daf3c3d2a6454f77aba014966f31c0a2"
          }
        },
        "cce1d30d2d954f3d8556c9affacb11a4": {
          "model_module": "@jupyter-widgets/controls",
          "model_name": "FloatSliderModel",
          "state": {
            "_view_name": "FloatSliderView",
            "style": "IPY_MODEL_c77d9feae803414eb676bc48c75d7727",
            "_dom_classes": [],
            "description": "Immunity Loss",
            "step": 0.01,
            "_model_name": "FloatSliderModel",
            "orientation": "horizontal",
            "max": 1,
            "_view_module": "@jupyter-widgets/controls",
            "_model_module_version": "1.5.0",
            "value": 0,
            "_view_count": null,
            "disabled": false,
            "_view_module_version": "1.5.0",
            "min": 0,
            "continuous_update": false,
            "readout_format": ".2f",
            "description_tooltip": null,
            "readout": true,
            "_model_module": "@jupyter-widgets/controls",
            "layout": "IPY_MODEL_c9f786a8b05d48c791ad0605f9e311c2"
          }
        },
        "928fe1e3504a48cab72571961b02792c": {
          "model_module": "@jupyter-widgets/output",
          "model_name": "OutputModel",
          "state": {
            "_view_name": "OutputView",
            "msg_id": "",
            "_dom_classes": [],
            "_model_name": "OutputModel",
            "outputs": [
              {
                "output_type": "display_data",
                "metadata": {
                  "tags": []
                },
                "image/png": "iVBORw0KGgoAAAANSUhEUgAAAmQAAAFNCAYAAACuWnPfAAAABHNCSVQICAgIfAhkiAAAAAlwSFlz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\nIRMRERHxmRIyEREREZ/9LzdBFGCh4+TTAAAAAElFTkSuQmCC\n",
                "text/plain": "<Figure size 720x360 with 1 Axes>"
              }
            ],
            "_view_module": "@jupyter-widgets/output",
            "_model_module_version": "1.0.0",
            "_view_count": null,
            "_view_module_version": "1.0.0",
            "layout": "IPY_MODEL_4011d12f93774cfda371499fd6a6035b",
            "_model_module": "@jupyter-widgets/output"
          }
        },
        "d31bc147773b4d4ea894c8c048d2344d": {
          "model_module": "@jupyter-widgets/controls",
          "model_name": "SliderStyleModel",
          "state": {
            "_view_name": "StyleView",
            "handle_color": null,
            "_model_name": "SliderStyleModel",
            "description_width": "initial",
            "_view_module": "@jupyter-widgets/base",
            "_model_module_version": "1.5.0",
            "_view_count": null,
            "_view_module_version": "1.2.0",
            "_model_module": "@jupyter-widgets/controls"
          }
        },
        "b999611db2ea40ac89492654d5cc43c9": {
          "model_module": "@jupyter-widgets/base",
          "model_name": "LayoutModel",
          "state": {
            "_view_name": "LayoutView",
            "grid_template_rows": null,
            "right": null,
            "justify_content": null,
            "_view_module": "@jupyter-widgets/base",
            "overflow": null,
            "_model_module_version": "1.2.0",
            "_view_count": null,
            "flex_flow": null,
            "width": null,
            "min_width": null,
            "border": null,
            "align_items": null,
            "bottom": null,
            "_model_module": "@jupyter-widgets/base",
            "top": null,
            "grid_column": null,
            "overflow_y": null,
            "overflow_x": null,
            "grid_auto_flow": null,
            "grid_area": null,
            "grid_template_columns": null,
            "flex": null,
            "_model_name": "LayoutModel",
            "justify_items": null,
            "grid_row": null,
            "max_height": null,
            "align_content": null,
            "visibility": null,
            "align_self": null,
            "height": null,
            "min_height": null,
            "padding": null,
            "grid_auto_rows": null,
            "grid_gap": null,
            "max_width": null,
            "order": null,
            "_view_module_version": "1.2.0",
            "grid_template_areas": null,
            "object_position": null,
            "object_fit": null,
            "grid_auto_columns": null,
            "margin": null,
            "display": null,
            "left": null
          }
        },
        "29ae02af96dd485594c8029940ba6716": {
          "model_module": "@jupyter-widgets/controls",
          "model_name": "SliderStyleModel",
          "state": {
            "_view_name": "StyleView",
            "handle_color": null,
            "_model_name": "SliderStyleModel",
            "description_width": "initial",
            "_view_module": "@jupyter-widgets/base",
            "_model_module_version": "1.5.0",
            "_view_count": null,
            "_view_module_version": "1.2.0",
            "_model_module": "@jupyter-widgets/controls"
          }
        },
        "daf3c3d2a6454f77aba014966f31c0a2": {
          "model_module": "@jupyter-widgets/base",
          "model_name": "LayoutModel",
          "state": {
            "_view_name": "LayoutView",
            "grid_template_rows": null,
            "right": null,
            "justify_content": null,
            "_view_module": "@jupyter-widgets/base",
            "overflow": null,
            "_model_module_version": "1.2.0",
            "_view_count": null,
            "flex_flow": null,
            "width": null,
            "min_width": null,
            "border": null,
            "align_items": null,
            "bottom": null,
            "_model_module": "@jupyter-widgets/base",
            "top": null,
            "grid_column": null,
            "overflow_y": null,
            "overflow_x": null,
            "grid_auto_flow": null,
            "grid_area": null,
            "grid_template_columns": null,
            "flex": null,
            "_model_name": "LayoutModel",
            "justify_items": null,
            "grid_row": null,
            "max_height": null,
            "align_content": null,
            "visibility": null,
            "align_self": null,
            "height": null,
            "min_height": null,
            "padding": null,
            "grid_auto_rows": null,
            "grid_gap": null,
            "max_width": null,
            "order": null,
            "_view_module_version": "1.2.0",
            "grid_template_areas": null,
            "object_position": null,
            "object_fit": null,
            "grid_auto_columns": null,
            "margin": null,
            "display": null,
            "left": null
          }
        },
        "c77d9feae803414eb676bc48c75d7727": {
          "model_module": "@jupyter-widgets/controls",
          "model_name": "SliderStyleModel",
          "state": {
            "_view_name": "StyleView",
            "handle_color": null,
            "_model_name": "SliderStyleModel",
            "description_width": "initial",
            "_view_module": "@jupyter-widgets/base",
            "_model_module_version": "1.5.0",
            "_view_count": null,
            "_view_module_version": "1.2.0",
            "_model_module": "@jupyter-widgets/controls"
          }
        },
        "c9f786a8b05d48c791ad0605f9e311c2": {
          "model_module": "@jupyter-widgets/base",
          "model_name": "LayoutModel",
          "state": {
            "_view_name": "LayoutView",
            "grid_template_rows": null,
            "right": null,
            "justify_content": null,
            "_view_module": "@jupyter-widgets/base",
            "overflow": null,
            "_model_module_version": "1.2.0",
            "_view_count": null,
            "flex_flow": null,
            "width": null,
            "min_width": null,
            "border": null,
            "align_items": null,
            "bottom": null,
            "_model_module": "@jupyter-widgets/base",
            "top": null,
            "grid_column": null,
            "overflow_y": null,
            "overflow_x": null,
            "grid_auto_flow": null,
            "grid_area": null,
            "grid_template_columns": null,
            "flex": null,
            "_model_name": "LayoutModel",
            "justify_items": null,
            "grid_row": null,
            "max_height": null,
            "align_content": null,
            "visibility": null,
            "align_self": null,
            "height": null,
            "min_height": null,
            "padding": null,
            "grid_auto_rows": null,
            "grid_gap": null,
            "max_width": null,
            "order": null,
            "_view_module_version": "1.2.0",
            "grid_template_areas": null,
            "object_position": null,
            "object_fit": null,
            "grid_auto_columns": null,
            "margin": null,
            "display": null,
            "left": null
          }
        }
      }
    }
  },
  "cells": [
    {
      "cell_type": "markdown",
      "metadata": {
        "id": "view-in-github",
        "colab_type": "text"
      },
      "source": [
        "<a href=\"https://colab.research.google.com/github/JesperDramsch/corona/blob/master/Flattening_the_Curve_Interactively.ipynb\" target=\"_parent\"><img src=\"https://colab.research.google.com/assets/colab-badge.svg\" alt=\"Open In Colab\"/></a>"
      ]
    },
    {
      "cell_type": "markdown",
      "metadata": {
        "id": "KZ0XXU2f9ii6",
        "colab_type": "text"
      },
      "source": [
        "# Infection Modeling\n",
        "\n",
        "The [Numberphile video](https://www.youtube.com/watch?v=k6nLfCbAzgo) on the corona curve inspired me to try solve these ODEs in Python and make it interactive.\n",
        "\n",
        "The original video shows the SIR model, a [\"compartmental model\"](https://en.wikipedia.org/wiki/Compartmental_models_in_epidemiology) for epidemology, deterministically modeling:\n",
        "\n",
        "- **S**usceptible to the disease\n",
        "- **I**nfectious with the disease\n",
        "- **R**emoved from the disease and immune\n",
        "\n",
        "This is done by solving these three ordinary differential equations (ODEs) and luckily SciPy has just the tools for this. The change of susceptible population is dependent on the transmission coefficient $\\beta$, the number of infected and suscptible people $(I, S)$, as well as the population size $N$:\n",
        "\n",
        "$\n",
        "\\frac{dS}{dt} = - \\frac{\\beta I S}{N},\n",
        "$\n",
        "\n",
        "the change of infected people is given by the influx of the infected people from the susceptible group from before and the transfer of infected people multiplied by the recovery factor $\\gamma$:\n",
        "\n",
        "$\n",
        "\\frac{dI}{dt} = \\frac{\\beta I S}{N}- \\gamma I, \n",
        "$\n",
        "\n",
        "the change of recovered people is simply given by the influx of infected people modified by the recovery factor from before:\n",
        "\n",
        "$\n",
        "\\frac{dR}{dt} = \\gamma I,\n",
        "$\n",
        "\n",
        "We can see that eventually all people will have gone through the infected group to the recovered group. This model simply depends on the assumption that the population N never changes (steady state)."
      ]
    },
    {
      "cell_type": "code",
      "metadata": {
        "id": "ieVn-KvMIh_d",
        "colab_type": "code",
        "colab": {}
      },
      "source": [
        "import numpy as np\n",
        "from scipy.integrate import solve_ivp\n",
        "\n",
        "import matplotlib.pyplot as plt\n",
        "from ipywidgets import interact, interactive, FloatSlider\n",
        "import ipywidgets as widgets\n",
        "\n",
        "%matplotlib inline"
      ],
      "execution_count": 0,
      "outputs": []
    },
    {
      "cell_type": "markdown",
      "metadata": {
        "id": "o4I8PfB2BZ-O",
        "colab_type": "text"
      },
      "source": [
        "These following start values show a simple percentage ($N=100$) and the values for the novel Corona virus that causes COVID-19.\n",
        "\n",
        "Additionally, we'll define some time we want to analyze and the sampling of time for our simulation. Coarser is faster but finer is more stable."
      ]
    },
    {
      "cell_type": "code",
      "metadata": {
        "id": "n6hvfF7TJ6Jl",
        "colab_type": "code",
        "colab": {}
      },
      "source": [
        "N = 100\n",
        "\n",
        "transmisision_rate = 3.2\n",
        "recovery_rate = 0.23\n",
        "waning_rate = 0.00\n",
        "\n",
        "max_time = 5e1\n",
        "dt = 1e-2"
      ],
      "execution_count": 0,
      "outputs": []
    },
    {
      "cell_type": "markdown",
      "metadata": {
        "id": "-ZQKpdV0BY0A",
        "colab_type": "text"
      },
      "source": [
        "Then we need some initially infected people from our population."
      ]
    },
    {
      "cell_type": "code",
      "metadata": {
        "id": "W1BXm-YXJBHy",
        "colab_type": "code",
        "outputId": "d914009d-9ee6-441f-d334-be4dec7d25c0",
        "colab": {
          "base_uri": "https://localhost:8080/",
          "height": 34
        }
      },
      "source": [
        "# Population stats\n",
        "\n",
        "def SIR_init(N=1, infected_ratio=0.01):\n",
        "    \"\"\" Initialize S, I, R\n",
        "    Initial Susceptible, Infected and Removed Population\n",
        "\n",
        "    N (int): number of people in population\n",
        "    infected_ratio (float): ratio of initially infected people\n",
        "    \"\"\"\n",
        "    I = (infected_ratio * N)\n",
        "    S = ((1 - infected_ratio) * N)\n",
        "    R = 0\n",
        "    return S, I, R\n",
        "    \n",
        "S_ini, I_ini, R_ini = SIR_init(N)\n",
        "print(SIR_init(N))"
      ],
      "execution_count": 9,
      "outputs": [
        {
          "output_type": "stream",
          "text": [
            "(99.0, 1.0, 0)\n"
          ],
          "name": "stdout"
        }
      ]
    },
    {
      "cell_type": "markdown",
      "metadata": {
        "id": "OxXsFUdhCO_W",
        "colab_type": "text"
      },
      "source": [
        "# Solve Differential Equations\n",
        "\n",
        "We use a slightly modified version of the SIR formulation. Influenza and influenza-like viruses (possibly the corona virus?) can cause a loss of immunity. That means the SIRS model, which has a rate that changes from recovered to susceptible, is possibly better suited to model this virus. That changes the aforementioned ODEs to: \n",
        "\n",
        "$\n",
        "\\begin{align}\n",
        "& \\frac{dS}{dt} = - \\frac{\\beta I S}{N} + \\xi R \\\\[6pt]\n",
        "& \\frac{dI}{dt} = \\frac{\\beta I S}{N}- \\gamma I \\\\[6pt]\n",
        "& \\frac{dR}{dt} = \\gamma I - \\xi R\n",
        "\\end{align}\n",
        "$\n",
        "\n",
        "adding a change to $\\frac{dR}{dt}$ of $R$ modified by the waning ratio $\\xi$ that is added to the susceptible population $S$. As long as we keep $\\xi=0$ the SIRS model is equivalent to the SIR model."
      ]
    },
    {
      "cell_type": "code",
      "metadata": {
        "id": "kaMio6fnInWi",
        "colab_type": "code",
        "colab": {}
      },
      "source": [
        "\n",
        "def dSIR_dt(t, SIR, N, transmisision_rate, recovery_rate, waning_rate=0): \n",
        "#def dSIR_dt(t, S, I, R, N, transmisision_rate, recovery_rate, waning_rate=0): \n",
        "    S, I, R = SIR\n",
        "\n",
        "    infected = transmisision_rate * S * I / N\n",
        "    removed = recovery_rate * I\n",
        "    waned = waning_rate * R\n",
        "\n",
        "    S_new = - infected + waned\n",
        "    I_new = infected - removed\n",
        "    R_new = removed - waned\n",
        "    return (S_new, I_new, R_new)\n"
      ],
      "execution_count": 0,
      "outputs": []
    },
    {
      "cell_type": "markdown",
      "metadata": {
        "id": "COvuuuAXHCs5",
        "colab_type": "text"
      },
      "source": [
        "The Scipy package provides us with several ODE solvers for \"Initial Value Provlems\", which is our kind of problem. These solvers are neatly packed in [solve_ivp](https://docs.scipy.org/doc/scipy/reference/generated/scipy.integrate.solve_ivp.html#scipy.integrate.solve_ivp).\n",
        "\n",
        "This function can be used to portray all the data we want in the entire time we simulate. However, it can solve specific points as well without providing that dense solution. Pretty neat:"
      ]
    },
    {
      "cell_type": "code",
      "metadata": {
        "id": "pSv0iTRRHBcG",
        "colab_type": "code",
        "colab": {}
      },
      "source": [
        "def solve_SIR(N, max_time, dt, transmisision_rate, recovery_rate, waning_rate):\n",
        "    t = np.arange(0, max_time, dt)\n",
        "    SIR = solve_ivp(dSIR_dt, \n",
        "                    [0, max_time], \n",
        "                    SIR_init(N), \n",
        "                    args=(N, transmisision_rate, recovery_rate, waning_rate), \n",
        "                    dense_output=True)\n",
        "    return t, SIR.sol(t)"
      ],
      "execution_count": 0,
      "outputs": []
    },
    {
      "cell_type": "markdown",
      "metadata": {
        "id": "UB-Y9kkfHtaU",
        "colab_type": "text"
      },
      "source": [
        "# Interactive Plot\n",
        "\n",
        "A nice big chunk of code to plot three lines. But now we can interactively explore the data and how we can flatten the curve.\n",
        "\n",
        "Social Distancing reduces the transmission coefficient, try it out!"
      ]
    },
    {
      "cell_type": "code",
      "metadata": {
        "id": "hmEVzfW3Yt-i",
        "colab_type": "code",
        "outputId": "bc79dbee-4ca1-400d-965c-4b0bb1f42959",
        "colab": {
          "base_uri": "https://localhost:8080/",
          "height": 446,
          "referenced_widgets": [
            "4100c50f60a547d5b083a825c17e5a18",
            "34b4181607074c47b2bf9118317738a0",
            "589a0d2cb7e4401299a18afa80349156",
            "dba9dae6ff874675be094f64dff2f8bb",
            "cce1d30d2d954f3d8556c9affacb11a4",
            "928fe1e3504a48cab72571961b02792c",
            "d31bc147773b4d4ea894c8c048d2344d",
            "b999611db2ea40ac89492654d5cc43c9",
            "29ae02af96dd485594c8029940ba6716",
            "daf3c3d2a6454f77aba014966f31c0a2",
            "c77d9feae803414eb676bc48c75d7727",
            "c9f786a8b05d48c791ad0605f9e311c2"
          ]
        }
      },
      "source": [
        "t, SIR = solve_SIR(N, max_time, dt, transmisision_rate, recovery_rate, waning_rate)\n",
        "\n",
        "fig, ax = plt.subplots(figsize=(10,5))\n",
        "S_plot, = ax.plot(t, SIR[0],  label='Susceptible')\n",
        "I_plot, = ax.plot(t, SIR[1],  label='Infectious')\n",
        "R_plot, = ax.plot(t, SIR[2],  label='Removed')\n",
        "_ = ax.legend(loc='best')\n",
        "_ = ax.set_xlabel('Time')\n",
        "_ = ax.set_ylabel('Population')\n",
        "_ = ax.set_title('Deterministic SIR(S) model')\n",
        "r_o = plt.text(40, 0, f'$R_O$={transmisision_rate/recovery_rate:.2f}', fontsize=10)\n",
        "plt.close()\n",
        "\n",
        "def plot_SIR(transmission=3.2, recovery=.23, wane=.05):\n",
        "    t, SIR = solve_SIR(N, max_time, dt, transmission, recovery, wane)\n",
        "    S_plot.set_ydata(SIR[0])\n",
        "    I_plot.set_ydata(SIR[1])\n",
        "    R_plot.set_ydata(SIR[2])\n",
        "    r_o.set_text(f'$R_O$={transmission/recovery:.2f}')\n",
        "    fig.canvas.draw()\n",
        "    display(fig)\n",
        "\n",
        "style = {'description_width': 'initial'}\n",
        "interactive_plot = interact(plot_SIR,\n",
        "         transmission=FloatSlider(value=3.2, min=0, max=5, step=1e-2, continuous_update=False, description=\"Transmission Rate\", style=style),\n",
        "         recovery=FloatSlider(value=.23, min=0, max=1, step=1e-2, continuous_update=False, description=\"Recovery Rate\", style=style),\n",
        "         wane=FloatSlider(value=0, min=0, max=1, step=1e-2, continuous_update=False, description=\"Immunity Loss\", style=style))\n"
      ],
      "execution_count": 12,
      "outputs": [
        {
          "output_type": "display_data",
          "data": {
            "application/vnd.jupyter.widget-view+json": {
              "model_id": "4100c50f60a547d5b083a825c17e5a18",
              "version_minor": 0,
              "version_major": 2
            },
            "text/plain": [
              "interactive(children=(FloatSlider(value=3.2, continuous_update=False, description='Transmission Rate', max=5.0…"
            ]
          },
          "metadata": {
            "tags": []
          }
        }
      ]
    },
    {
      "cell_type": "code",
      "metadata": {
        "id": "Xh-5iRuAxBSY",
        "colab_type": "code",
        "colab": {}
      },
      "source": [
        ""
      ],
      "execution_count": 0,
      "outputs": []
    }
  ]
}
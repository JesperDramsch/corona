{
  "nbformat": 4,
  "nbformat_minor": 0,
  "metadata": {
    "colab": {
      "name": "Flattening the Curve - Interactively",
      "provenance": [],
      "authorship_tag": "ABX9TyNNXsLyCGfskBojhw9zyylW",
      "include_colab_link": true
    },
    "kernelspec": {
      "name": "python3",
      "display_name": "Python 3"
    },
    "widgets": {
      "application/vnd.jupyter.widget-state+json": {
        "c2334ed278cf40efa3de1d2c0328c48e": {
          "model_module": "@jupyter-widgets/controls",
          "model_name": "VBoxModel",
          "state": {
            "_view_name": "VBoxView",
            "_dom_classes": [
              "widget-interact"
            ],
            "_model_name": "VBoxModel",
            "_view_module": "@jupyter-widgets/controls",
            "_model_module_version": "1.5.0",
            "_view_count": null,
            "_view_module_version": "1.5.0",
            "box_style": "",
            "layout": "IPY_MODEL_b451226b48a24ae687cf92e3b58de907",
            "_model_module": "@jupyter-widgets/controls",
            "children": [
              "IPY_MODEL_7c20994771b04b2692f9bd98545b9c33",
              "IPY_MODEL_ef510bf8c9944688b12dab9b9a9cb561",
              "IPY_MODEL_6ad5c3c429cc401d919ea3d35d1a67ce",
              "IPY_MODEL_6131c9168958431e99fdde3e6887045f"
            ]
          }
        },
        "b451226b48a24ae687cf92e3b58de907": {
          "model_module": "@jupyter-widgets/base",
          "model_name": "LayoutModel",
          "state": {
            "_view_name": "LayoutView",
            "grid_template_rows": null,
            "right": null,
            "justify_content": null,
            "_view_module": "@jupyter-widgets/base",
            "overflow": null,
            "_model_module_version": "1.2.0",
            "_view_count": null,
            "flex_flow": null,
            "width": null,
            "min_width": null,
            "border": null,
            "align_items": null,
            "bottom": null,
            "_model_module": "@jupyter-widgets/base",
            "top": null,
            "grid_column": null,
            "overflow_y": null,
            "overflow_x": null,
            "grid_auto_flow": null,
            "grid_area": null,
            "grid_template_columns": null,
            "flex": null,
            "_model_name": "LayoutModel",
            "justify_items": null,
            "grid_row": null,
            "max_height": null,
            "align_content": null,
            "visibility": null,
            "align_self": null,
            "height": null,
            "min_height": null,
            "padding": null,
            "grid_auto_rows": null,
            "grid_gap": null,
            "max_width": null,
            "order": null,
            "_view_module_version": "1.2.0",
            "grid_template_areas": null,
            "object_position": null,
            "object_fit": null,
            "grid_auto_columns": null,
            "margin": null,
            "display": null,
            "left": null
          }
        },
        "7c20994771b04b2692f9bd98545b9c33": {
          "model_module": "@jupyter-widgets/controls",
          "model_name": "FloatSliderModel",
          "state": {
            "_view_name": "FloatSliderView",
            "style": "IPY_MODEL_512777cb61744521a2b820452ffaadf3",
            "_dom_classes": [],
            "description": "Transmission Rate",
            "step": 0.01,
            "_model_name": "FloatSliderModel",
            "orientation": "horizontal",
            "max": 5,
            "_view_module": "@jupyter-widgets/controls",
            "_model_module_version": "1.5.0",
            "value": 0.53,
            "_view_count": null,
            "disabled": false,
            "_view_module_version": "1.5.0",
            "min": 0,
            "continuous_update": false,
            "readout_format": ".2f",
            "description_tooltip": null,
            "readout": true,
            "_model_module": "@jupyter-widgets/controls",
            "layout": "IPY_MODEL_559669ebfcff4663adec5981cd30219c"
          }
        },
        "ef510bf8c9944688b12dab9b9a9cb561": {
          "model_module": "@jupyter-widgets/controls",
          "model_name": "FloatSliderModel",
          "state": {
            "_view_name": "FloatSliderView",
            "style": "IPY_MODEL_cb8be674f2be49cbadf9a8bad00e5e27",
            "_dom_classes": [],
            "description": "Recovery Rate",
            "step": 0.01,
            "_model_name": "FloatSliderModel",
            "orientation": "horizontal",
            "max": 1,
            "_view_module": "@jupyter-widgets/controls",
            "_model_module_version": "1.5.0",
            "value": 0.15,
            "_view_count": null,
            "disabled": false,
            "_view_module_version": "1.5.0",
            "min": 0,
            "continuous_update": false,
            "readout_format": ".2f",
            "description_tooltip": null,
            "readout": true,
            "_model_module": "@jupyter-widgets/controls",
            "layout": "IPY_MODEL_f0964f4518e0479686527d3f28ca5883"
          }
        },
        "6ad5c3c429cc401d919ea3d35d1a67ce": {
          "model_module": "@jupyter-widgets/controls",
          "model_name": "FloatSliderModel",
          "state": {
            "_view_name": "FloatSliderView",
            "style": "IPY_MODEL_9ead0e26238e4fd196182a09e1153e96",
            "_dom_classes": [],
            "description": "Immunity Loss",
            "step": 0.01,
            "_model_name": "FloatSliderModel",
            "orientation": "horizontal",
            "max": 1,
            "_view_module": "@jupyter-widgets/controls",
            "_model_module_version": "1.5.0",
            "value": 0.01,
            "_view_count": null,
            "disabled": false,
            "_view_module_version": "1.5.0",
            "min": 0,
            "continuous_update": false,
            "readout_format": ".2f",
            "description_tooltip": null,
            "readout": true,
            "_model_module": "@jupyter-widgets/controls",
            "layout": "IPY_MODEL_9e3753fb52ab45f2a8704243442a3c0d"
          }
        },
        "6131c9168958431e99fdde3e6887045f": {
          "model_module": "@jupyter-widgets/output",
          "model_name": "OutputModel",
          "state": {
            "_view_name": "OutputView",
            "msg_id": "",
            "_dom_classes": [],
            "_model_name": "OutputModel",
            "outputs": [
              {
                "output_type": "display_data",
                "metadata": {
                  "tags": []
                },
                "image/png": "iVBORw0KGgoAAAANSUhEUgAAAmQAAAFNCAYAAACuWnPfAAAABHNCSVQICAgIfAhkiAAAAAlwSFlz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\nJoQQQghhs/8PRcqc7aPbeBoAAAAASUVORK5CYII=\n",
                "text/plain": "<Figure size 720x360 with 1 Axes>"
              }
            ],
            "_view_module": "@jupyter-widgets/output",
            "_model_module_version": "1.0.0",
            "_view_count": null,
            "_view_module_version": "1.0.0",
            "layout": "IPY_MODEL_2a4436cc940347d38d7ae8e2981ba358",
            "_model_module": "@jupyter-widgets/output"
          }
        },
        "512777cb61744521a2b820452ffaadf3": {
          "model_module": "@jupyter-widgets/controls",
          "model_name": "SliderStyleModel",
          "state": {
            "_view_name": "StyleView",
            "handle_color": null,
            "_model_name": "SliderStyleModel",
            "description_width": "initial",
            "_view_module": "@jupyter-widgets/base",
            "_model_module_version": "1.5.0",
            "_view_count": null,
            "_view_module_version": "1.2.0",
            "_model_module": "@jupyter-widgets/controls"
          }
        },
        "559669ebfcff4663adec5981cd30219c": {
          "model_module": "@jupyter-widgets/base",
          "model_name": "LayoutModel",
          "state": {
            "_view_name": "LayoutView",
            "grid_template_rows": null,
            "right": null,
            "justify_content": null,
            "_view_module": "@jupyter-widgets/base",
            "overflow": null,
            "_model_module_version": "1.2.0",
            "_view_count": null,
            "flex_flow": null,
            "width": null,
            "min_width": null,
            "border": null,
            "align_items": null,
            "bottom": null,
            "_model_module": "@jupyter-widgets/base",
            "top": null,
            "grid_column": null,
            "overflow_y": null,
            "overflow_x": null,
            "grid_auto_flow": null,
            "grid_area": null,
            "grid_template_columns": null,
            "flex": null,
            "_model_name": "LayoutModel",
            "justify_items": null,
            "grid_row": null,
            "max_height": null,
            "align_content": null,
            "visibility": null,
            "align_self": null,
            "height": null,
            "min_height": null,
            "padding": null,
            "grid_auto_rows": null,
            "grid_gap": null,
            "max_width": null,
            "order": null,
            "_view_module_version": "1.2.0",
            "grid_template_areas": null,
            "object_position": null,
            "object_fit": null,
            "grid_auto_columns": null,
            "margin": null,
            "display": null,
            "left": null
          }
        },
        "cb8be674f2be49cbadf9a8bad00e5e27": {
          "model_module": "@jupyter-widgets/controls",
          "model_name": "SliderStyleModel",
          "state": {
            "_view_name": "StyleView",
            "handle_color": null,
            "_model_name": "SliderStyleModel",
            "description_width": "initial",
            "_view_module": "@jupyter-widgets/base",
            "_model_module_version": "1.5.0",
            "_view_count": null,
            "_view_module_version": "1.2.0",
            "_model_module": "@jupyter-widgets/controls"
          }
        },
        "f0964f4518e0479686527d3f28ca5883": {
          "model_module": "@jupyter-widgets/base",
          "model_name": "LayoutModel",
          "state": {
            "_view_name": "LayoutView",
            "grid_template_rows": null,
            "right": null,
            "justify_content": null,
            "_view_module": "@jupyter-widgets/base",
            "overflow": null,
            "_model_module_version": "1.2.0",
            "_view_count": null,
            "flex_flow": null,
            "width": null,
            "min_width": null,
            "border": null,
            "align_items": null,
            "bottom": null,
            "_model_module": "@jupyter-widgets/base",
            "top": null,
            "grid_column": null,
            "overflow_y": null,
            "overflow_x": null,
            "grid_auto_flow": null,
            "grid_area": null,
            "grid_template_columns": null,
            "flex": null,
            "_model_name": "LayoutModel",
            "justify_items": null,
            "grid_row": null,
            "max_height": null,
            "align_content": null,
            "visibility": null,
            "align_self": null,
            "height": null,
            "min_height": null,
            "padding": null,
            "grid_auto_rows": null,
            "grid_gap": null,
            "max_width": null,
            "order": null,
            "_view_module_version": "1.2.0",
            "grid_template_areas": null,
            "object_position": null,
            "object_fit": null,
            "grid_auto_columns": null,
            "margin": null,
            "display": null,
            "left": null
          }
        },
        "9ead0e26238e4fd196182a09e1153e96": {
          "model_module": "@jupyter-widgets/controls",
          "model_name": "SliderStyleModel",
          "state": {
            "_view_name": "StyleView",
            "handle_color": null,
            "_model_name": "SliderStyleModel",
            "description_width": "initial",
            "_view_module": "@jupyter-widgets/base",
            "_model_module_version": "1.5.0",
            "_view_count": null,
            "_view_module_version": "1.2.0",
            "_model_module": "@jupyter-widgets/controls"
          }
        },
        "9e3753fb52ab45f2a8704243442a3c0d": {
          "model_module": "@jupyter-widgets/base",
          "model_name": "LayoutModel",
          "state": {
            "_view_name": "LayoutView",
            "grid_template_rows": null,
            "right": null,
            "justify_content": null,
            "_view_module": "@jupyter-widgets/base",
            "overflow": null,
            "_model_module_version": "1.2.0",
            "_view_count": null,
            "flex_flow": null,
            "width": null,
            "min_width": null,
            "border": null,
            "align_items": null,
            "bottom": null,
            "_model_module": "@jupyter-widgets/base",
            "top": null,
            "grid_column": null,
            "overflow_y": null,
            "overflow_x": null,
            "grid_auto_flow": null,
            "grid_area": null,
            "grid_template_columns": null,
            "flex": null,
            "_model_name": "LayoutModel",
            "justify_items": null,
            "grid_row": null,
            "max_height": null,
            "align_content": null,
            "visibility": null,
            "align_self": null,
            "height": null,
            "min_height": null,
            "padding": null,
            "grid_auto_rows": null,
            "grid_gap": null,
            "max_width": null,
            "order": null,
            "_view_module_version": "1.2.0",
            "grid_template_areas": null,
            "object_position": null,
            "object_fit": null,
            "grid_auto_columns": null,
            "margin": null,
            "display": null,
            "left": null
          }
        }
      }
    }
  },
  "cells": [
    {
      "cell_type": "markdown",
      "metadata": {
        "id": "view-in-github",
        "colab_type": "text"
      },
      "source": [
        "<a href=\"https://colab.research.google.com/github/JesperDramsch/corona/blob/master/Flattening_the_Curve_Interactively.ipynb\" target=\"_parent\"><img src=\"https://colab.research.google.com/assets/colab-badge.svg\" alt=\"Open In Colab\"/></a>"
      ]
    },
    {
      "cell_type": "markdown",
      "metadata": {
        "id": "KZ0XXU2f9ii6",
        "colab_type": "text"
      },
      "source": [
        "# Infection Modeling\n",
        "\n",
        "The [Numberphile video](https://www.youtube.com/watch?v=k6nLfCbAzgo) on the corona curve inspired me to try solve these ODEs in Python and make it interactive.\n",
        "\n",
        "The original video shows the SIR model, a [\"compartmental model\"](https://en.wikipedia.org/wiki/Compartmental_models_in_epidemiology) for epidemology, deterministically modeling:\n",
        "\n",
        "- **S**usceptible to the disease\n",
        "- **I**nfectious with the disease\n",
        "- **R**emoved from the disease and immune\n",
        "\n",
        "This is done by solving these three ordinary differential equations (ODEs) and luckily SciPy has just the tools for this. The change of susceptible population is dependent on the transmission coefficient $\\beta$, the number of infected and suscptible people $(I, S)$, as well as the population size $N$:\n",
        "\n",
        "$\n",
        "\\frac{dS}{dt} = - \\frac{\\beta I S}{N},\n",
        "$\n",
        "\n",
        "the change of infected people is given by the influx of the infected people from the susceptible group from before and the transfer of infected people multiplied by the recovery factor $\\gamma$:\n",
        "\n",
        "$\n",
        "\\frac{dI}{dt} = \\frac{\\beta I S}{N}- \\gamma I, \n",
        "$\n",
        "\n",
        "the change of recovered people is simply given by the influx of infected people modified by the recovery factor from before:\n",
        "\n",
        "$\n",
        "\\frac{dR}{dt} = \\gamma I,\n",
        "$\n",
        "\n",
        "We can see that eventually all people will have gone through the infected group to the recovered group. This model simply depends on the assumption that the population N never changes (steady state)."
      ]
    },
    {
      "cell_type": "code",
      "metadata": {
        "id": "ieVn-KvMIh_d",
        "colab_type": "code",
        "colab": {}
      },
      "source": [
        "import numpy as np\n",
        "from scipy.integrate import odeint\n",
        "\n",
        "import matplotlib.pyplot as plt\n",
        "from ipywidgets import interact, interactive, FloatSlider\n",
        "import ipywidgets as widgets\n",
        "\n",
        "%matplotlib inline"
      ],
      "execution_count": 0,
      "outputs": []
    },
    {
      "cell_type": "markdown",
      "metadata": {
        "id": "o4I8PfB2BZ-O",
        "colab_type": "text"
      },
      "source": [
        "These following start values show a simple percentage ($N=100$) and the values for the novel Corona virus that causes COVID-19.\n",
        "\n",
        "Additionally, we'll define some time we want to analyze and the sampling of time for our simulation. Coarser is faster but finer is more stable."
      ]
    },
    {
      "cell_type": "code",
      "metadata": {
        "id": "n6hvfF7TJ6Jl",
        "colab_type": "code",
        "colab": {}
      },
      "source": [
        "N = 100\n",
        "\n",
        "transmisision_rate = 3.2\n",
        "recovery_rate = 0.23\n",
        "waning_rate = 0.00\n",
        "\n",
        "max_time = 5e1\n",
        "dt = 1e-2"
      ],
      "execution_count": 0,
      "outputs": []
    },
    {
      "cell_type": "markdown",
      "metadata": {
        "id": "-ZQKpdV0BY0A",
        "colab_type": "text"
      },
      "source": [
        "Then we need some initially infected people from our population."
      ]
    },
    {
      "cell_type": "code",
      "metadata": {
        "id": "W1BXm-YXJBHy",
        "colab_type": "code",
        "outputId": "bb7e7768-c4cd-4a67-8134-079b1a93d609",
        "colab": {
          "base_uri": "https://localhost:8080/",
          "height": 34
        }
      },
      "source": [
        "# Population stats\n",
        "\n",
        "def SIR_init(N=1, infected_ratio=0.01):\n",
        "    \"\"\" Initialize S, I, R\n",
        "    Initial Susceptible, Infected and Removed Population\n",
        "\n",
        "    N (int): number of people in population\n",
        "    infected_ratio (float): ratio of initially infected people\n",
        "    \"\"\"\n",
        "    I = (infected_ratio * N)\n",
        "    S = ((1 - infected_ratio) * N)\n",
        "    R = 0\n",
        "    return S, I, R\n",
        "    \n",
        "S_ini, I_ini, R_ini = SIR_init(N)\n",
        "print(SIR_init(N))"
      ],
      "execution_count": 15,
      "outputs": [
        {
          "output_type": "stream",
          "text": [
            "(99.0, 1.0, 0)\n"
          ],
          "name": "stdout"
        }
      ]
    },
    {
      "cell_type": "markdown",
      "metadata": {
        "id": "OxXsFUdhCO_W",
        "colab_type": "text"
      },
      "source": [
        "# Solve Differential Equations\n",
        "\n",
        "We use a slightly modified version of the SIR formulation. Influenza and influenza-like viruses (possibly the corona virus?) can cause a loss of immunity. That means the SIRS model, which has a rate that changes from recovered to susceptible, is possibly better suited to model this virus. That changes the aforementioned ODEs to: \n",
        "\n",
        "$\n",
        "\\begin{align}\n",
        "& \\frac{dS}{dt} = - \\frac{\\beta I S}{N} + \\xi R \\\\[6pt]\n",
        "& \\frac{dI}{dt} = \\frac{\\beta I S}{N}- \\gamma I \\\\[6pt]\n",
        "& \\frac{dR}{dt} = \\gamma I - \\xi R\n",
        "\\end{align}\n",
        "$\n",
        "\n",
        "adding a change to $\\frac{dR}{dt}$ of $R$ modified by the waning ratio $\\xi$ that is added to the susceptible population $S$. As long as we keep $\\xi=0$ the SIRS model is equivalent to the SIR model."
      ]
    },
    {
      "cell_type": "code",
      "metadata": {
        "id": "kaMio6fnInWi",
        "colab_type": "code",
        "colab": {
          "base_uri": "https://localhost:8080/",
          "height": 54
        },
        "outputId": "dd1c24ab-4240-43c2-edc9-129857b675bd"
      },
      "source": [
        "\n",
        "def dSIR_dt(t, SIR, N, transmisision_rate, recovery_rate, waning_rate=0): \n",
        "#def dSIR_dt(t, S, I, R, N, transmisision_rate, recovery_rate, waning_rate=0): \n",
        "    S, I, R = SIR\n",
        "\n",
        "    infected = transmisision_rate * S * I / N\n",
        "    removed = recovery_rate * I\n",
        "    waned = waning_rate * R\n",
        "\n",
        "    S_new = - infected + waned\n",
        "    I_new = infected - removed\n",
        "    R_new = removed - waned\n",
        "    return (S_new, I_new, R_new)\n"
      ],
      "execution_count": 29,
      "outputs": [
        {
          "output_type": "stream",
          "text": [
            "ERROR! Session/line number was not unique in database. History logging moved to new session 61\n"
          ],
          "name": "stdout"
        }
      ]
    },
    {
      "cell_type": "markdown",
      "metadata": {
        "id": "COvuuuAXHCs5",
        "colab_type": "text"
      },
      "source": [
        "The Scipy package provides us with several ODE solvers for \"Initial Value Provlems\", which is our kind of problem. These solvers are neatly packed in [solve_ivp](https://docs.scipy.org/doc/scipy/reference/generated/scipy.integrate.solve_ivp.html#scipy.integrate.solve_ivp).\n",
        "\n",
        "This function can be used to portray all the data we want in the entire time we simulate. However, it can solve specific points as well without providing that dense solution. Pretty neat:"
      ]
    },
    {
      "cell_type": "code",
      "metadata": {
        "id": "pSv0iTRRHBcG",
        "colab_type": "code",
        "colab": {}
      },
      "source": [
        "def solve_SIR(N, max_time, dt, transmisision_rate, recovery_rate, waning_rate):\n",
        "    t = np.arange(0, max_time, dt)\n",
        "    SIR = solve_ivp(dSIR_dt, \n",
        "                    [0, max_time], \n",
        "                    SIR_init(N), \n",
        "                    args=(N, transmisision_rate, recovery_rate, waning_rate), \n",
        "                    dense_output=True)\n",
        "    return t, SIR.sol(t)"
      ],
      "execution_count": 0,
      "outputs": []
    },
    {
      "cell_type": "markdown",
      "metadata": {
        "id": "UB-Y9kkfHtaU",
        "colab_type": "text"
      },
      "source": [
        "# Interactive Plot\n",
        "\n",
        "A nice big chunk of code to plot three lines. But now we can interactively explore the data and how we can flatten the curve.\n",
        "\n",
        "Social Distancing reduces the transmission coefficient, try it out!"
      ]
    },
    {
      "cell_type": "code",
      "metadata": {
        "id": "hmEVzfW3Yt-i",
        "colab_type": "code",
        "colab": {
          "base_uri": "https://localhost:8080/",
          "height": 446,
          "referenced_widgets": [
            "c2334ed278cf40efa3de1d2c0328c48e",
            "b451226b48a24ae687cf92e3b58de907",
            "7c20994771b04b2692f9bd98545b9c33",
            "ef510bf8c9944688b12dab9b9a9cb561",
            "6ad5c3c429cc401d919ea3d35d1a67ce",
            "6131c9168958431e99fdde3e6887045f",
            "512777cb61744521a2b820452ffaadf3",
            "559669ebfcff4663adec5981cd30219c",
            "cb8be674f2be49cbadf9a8bad00e5e27",
            "f0964f4518e0479686527d3f28ca5883",
            "9ead0e26238e4fd196182a09e1153e96",
            "9e3753fb52ab45f2a8704243442a3c0d"
          ]
        },
        "outputId": "1d3dd229-461f-4853-fe8e-a662671774db"
      },
      "source": [
        "t, SIR = solve_SIR(N, max_time, dt, transmisision_rate, recovery_rate, waning_rate)\n",
        "\n",
        "fig, ax = plt.subplots(figsize=(10,5))\n",
        "S_plot, = ax.plot(t, SIR[0],  label='Susceptible')\n",
        "I_plot, = ax.plot(t, SIR[1],  label='Infectious')\n",
        "R_plot, = ax.plot(t, SIR[2],  label='Removed')\n",
        "_ = ax.legend(loc='best')\n",
        "_ = ax.set_xlabel('Time')\n",
        "_ = ax.set_ylabel('Population')\n",
        "_ = ax.set_title('Deterministic SIR(S) model')\n",
        "r_o = plt.text(40, 0, f'$R_O$={transmisision_rate/recovery_rate:.2f}', fontsize=10)\n",
        "plt.close()\n",
        "\n",
        "def plot_SIR(transmission=3.2, recovery=.23, wane=.05):\n",
        "    t, SIR = solve_SIR(N, max_time, dt, transmission, recovery, wane)\n",
        "    S_plot.set_ydata(SIR[0])\n",
        "    I_plot.set_ydata(SIR[1])\n",
        "    R_plot.set_ydata(SIR[2])\n",
        "    r_o.set_text(f'$R_O$={transmission/recovery:.2f}')\n",
        "    fig.canvas.draw()\n",
        "    display(fig)\n",
        "\n",
        "style = {'description_width': 'initial'}\n",
        "interactive_plot = interact(plot_SIR,\n",
        "         transmission=FloatSlider(value=3.2, min=0, max=5, step=1e-2, continuous_update=False, description=\"Transmission Rate\", style=style),\n",
        "         recovery=FloatSlider(value=.23, min=0, max=1, step=1e-2, continuous_update=False, description=\"Recovery Rate\", style=style),\n",
        "         wane=FloatSlider(value=0, min=0, max=1, step=1e-2, continuous_update=False, description=\"Immunity Loss\", style=style))\n"
      ],
      "execution_count": 33,
      "outputs": [
        {
          "output_type": "display_data",
          "data": {
            "application/vnd.jupyter.widget-view+json": {
              "model_id": "c2334ed278cf40efa3de1d2c0328c48e",
              "version_minor": 0,
              "version_major": 2
            },
            "text/plain": [
              "interactive(children=(FloatSlider(value=3.2, continuous_update=False, description='Transmission Rate', max=5.0…"
            ]
          },
          "metadata": {
            "tags": []
          }
        }
      ]
    },
    {
      "cell_type": "code",
      "metadata": {
        "id": "Xh-5iRuAxBSY",
        "colab_type": "code",
        "colab": {}
      },
      "source": [
        ""
      ],
      "execution_count": 0,
      "outputs": []
    }
  ]
}